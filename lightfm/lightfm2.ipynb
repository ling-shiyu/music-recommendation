{
 "cells": [
  {
   "cell_type": "code",
   "execution_count": 1,
   "metadata": {},
   "outputs": [],
   "source": [
    "import time\n",
    "import pandas as pd\n",
    "import numpy as np\n",
    "from lightfm import LightFM\n",
    "from lightfm.datasets import fetch_movielens\n",
    "from lightfm.evaluation import precision_at_k\n",
    "import scipy.sparse as sp\n",
    "from scipy.sparse import csr_matrix"
   ]
  },
  {
   "cell_type": "code",
   "execution_count": 2,
   "metadata": {},
   "outputs": [],
   "source": [
    "df_train = pd.read_parquet('/home/yx1750/final-project-group20/data/interactions_train_small_rating.parquet/')\n",
    "df_val = pd.read_parquet('/home/yx1750/final-project-group20/data/interactions_val_small_rating.parquet/')\n",
    "df_test = pd.read_parquet('/home/yx1750/final-project-group20/data/interactions_test_rating.parquet/')\n",
    "df_train = df_train[['user_id', 'reindex_int']]\n",
    "df_val = df_val[['user_id', 'reindex_int']]\n",
    "df_test = df_test[['user_id', 'reindex_int']]"
   ]
  },
  {
   "cell_type": "code",
   "execution_count": 3,
   "metadata": {},
   "outputs": [],
   "source": [
    "df_combined = pd.concat([df_train, df_test], axis=0)"
   ]
  },
  {
   "cell_type": "code",
   "execution_count": 4,
   "metadata": {},
   "outputs": [],
   "source": [
    "def df_to_matrix(df):\n",
    "    # maps each unique user_id to an integer value\n",
    "    user_id_map = {}\n",
    "    for i, user_id in enumerate(df['user_id'].unique()):\n",
    "        user_id_map[user_id] = i\n",
    "    \n",
    "    # maps each unique item_id to an integer value\n",
    "    item_id_map = {}\n",
    "    for i, item_id in enumerate(df['reindex_int'].unique()):\n",
    "        item_id_map[item_id] = i\n",
    "    \n",
    "    df_copy = df.copy()\n",
    "    df_copy['user_id'] = df_copy['user_id'].apply(lambda x: user_id_map[x])\n",
    "    df_copy['reindex_int'] = df_copy['reindex_int'].apply(lambda x: item_id_map[x])\n",
    "    \n",
    "    num_users = len(user_id_map)\n",
    "    num_items = len(item_id_map)\n",
    "\n",
    "#     rating = df['scaled_rating'].values\n",
    "    row = df_copy['user_id'].values\n",
    "    col = df_copy['reindex_int'].values\n",
    "#     row = list(user_id_map.keys())\n",
    "#     col = list(item_id_map.keys())\n",
    "    V = np.ones(len(row))\n",
    "\n",
    "#     sparse_matrix = csr_matrix((V, (row, col)), shape=(num_users, num_items))\n",
    "    interactions = sp.coo_matrix((V, (row, col)), dtype=np.float64)\n",
    "    interactions = interactions.tocsr()\n",
    "    \n",
    "    return interactions, user_id_map, item_id_map"
   ]
  },
  {
   "cell_type": "code",
   "execution_count": 5,
   "metadata": {},
   "outputs": [],
   "source": [
    "interactions, user_id_map, item_id_map = df_to_matrix(df_combined)"
   ]
  },
  {
   "cell_type": "code",
   "execution_count": 6,
   "metadata": {},
   "outputs": [
    {
     "data": {
      "text/plain": [
       "<7821x3039419 sparse matrix of type '<class 'numpy.float64'>'\n",
       "\twith 7937704 stored elements in Compressed Sparse Row format>"
      ]
     },
     "execution_count": 6,
     "metadata": {},
     "output_type": "execute_result"
    }
   ],
   "source": [
    "interactions"
   ]
  },
  {
   "cell_type": "code",
   "execution_count": 7,
   "metadata": {},
   "outputs": [],
   "source": [
    "def subset_to_matrix(interactions, user_id_map, item_id_map, subset):\n",
    "    diff = df_combined.merge(subset, how = 'outer' ,indicator=True).loc[lambda x : x['_merge'] == 'left_only']\n",
    "    print(diff)\n",
    "    user_list = diff['user_id'].values\n",
    "    item_list = diff['reindex_int'].values\n",
    "\n",
    "    sub_mat = interactions.copy().tolil()\n",
    "    \n",
    "    for user, item in zip(user_list, item_list):\n",
    "        uidx = user_id_map[user]\n",
    "        midx = item_id_map[item]\n",
    "\n",
    "        sub_mat[uidx, midx] = 0.\n",
    "    \n",
    "    return sub_mat.tocsr()"
   ]
  },
  {
   "cell_type": "code",
   "execution_count": 8,
   "metadata": {},
   "outputs": [
    {
     "name": "stdout",
     "output_type": "stream",
     "text": [
      "         user_id  reindex_int     _merge\n",
      "5222667       34       948391  left_only\n",
      "5222668       34       738926  left_only\n",
      "5222669       34       881158  left_only\n",
      "5222670       34      9576131  left_only\n",
      "5222671       34      5959258  left_only\n",
      "...          ...          ...        ...\n",
      "8887559    22187      1410789  left_only\n",
      "8887560    22187     16873952  left_only\n",
      "8887561    22187      7470930  left_only\n",
      "8887562    22187     16437507  left_only\n",
      "8887563    22187     16952627  left_only\n",
      "\n",
      "[3664897 rows x 3 columns]\n"
     ]
    }
   ],
   "source": [
    "train = subset_to_matrix(interactions, user_id_map, item_id_map, df_train)"
   ]
  },
  {
   "cell_type": "code",
   "execution_count": 9,
   "metadata": {},
   "outputs": [
    {
     "name": "stdout",
     "output_type": "stream",
     "text": [
      "         user_id  reindex_int     _merge\n",
      "0             34     17504245  left_only\n",
      "1             34     13652040  left_only\n",
      "2             34     17428983  left_only\n",
      "3             34      7736006  left_only\n",
      "4             34     15663704  left_only\n",
      "...          ...          ...        ...\n",
      "8887559    22187      1410789  left_only\n",
      "8887560    22187     16873952  left_only\n",
      "8887561    22187      7470930  left_only\n",
      "8887562    22187     16437507  left_only\n",
      "8887563    22187     16952627  left_only\n",
      "\n",
      "[8649570 rows x 3 columns]\n"
     ]
    }
   ],
   "source": [
    "test = subset_to_matrix(interactions, user_id_map, item_id_map, df_val)"
   ]
  },
  {
   "cell_type": "code",
   "execution_count": 10,
   "metadata": {},
   "outputs": [
    {
     "data": {
      "text/plain": [
       "<7821x3039419 sparse matrix of type '<class 'numpy.float64'>'\n",
       "\twith 4272807 stored elements in Compressed Sparse Row format>"
      ]
     },
     "execution_count": 10,
     "metadata": {},
     "output_type": "execute_result"
    }
   ],
   "source": [
    "train"
   ]
  },
  {
   "cell_type": "code",
   "execution_count": 11,
   "metadata": {},
   "outputs": [
    {
     "data": {
      "text/plain": [
       "<7821x3039419 sparse matrix of type '<class 'numpy.float64'>'\n",
       "\twith 237994 stored elements in Compressed Sparse Row format>"
      ]
     },
     "execution_count": 11,
     "metadata": {},
     "output_type": "execute_result"
    }
   ],
   "source": [
    "test"
   ]
  },
  {
   "cell_type": "code",
   "execution_count": 12,
   "metadata": {},
   "outputs": [
    {
     "name": "stdout",
     "output_type": "stream",
     "text": [
      "Time to fit model:  24.249038502000005\n"
     ]
    }
   ],
   "source": [
    "# Initialize the model\n",
    "model = LightFM(loss='warp')\n",
    "\n",
    "# Train the  model\n",
    "start = time.process_time()\n",
    "\n",
    "model.fit(train, epochs=3)\n",
    "end = time.process_time()\n",
    "elapsed_time = end - start\n",
    "print(\"Time to fit model: \", elapsed_time)"
   ]
  },
  {
   "cell_type": "code",
   "execution_count": 13,
   "metadata": {},
   "outputs": [
    {
     "name": "stdout",
     "output_type": "stream",
     "text": [
      "Time to calculate test precision:  1056.8419021920001\n",
      "0.0063928394\n"
     ]
    }
   ],
   "source": [
    "# start = time.process_time()\n",
    "# train_precision = precision_at_k(model, train_matrix, k=100).mean()\n",
    "# end = time.process_time()\n",
    "# elapsed_time = end - start\n",
    "# print(\"Time to calculate training precision: \", elapsed_time)\n",
    "\n",
    "start = time.process_time()\n",
    "test_precision = precision_at_k(model, test, k=100).mean()\n",
    "end = time.process_time()\n",
    "elapsed_time = end - start\n",
    "print(\"Time to calculate test precision: \", elapsed_time)\n",
    "\n",
    "# print(train_precision)\n",
    "print(test_precision)"
   ]
  },
  {
   "cell_type": "code",
   "execution_count": null,
   "metadata": {},
   "outputs": [],
   "source": []
  }
 ],
 "metadata": {
  "kernelspec": {
   "display_name": "Python 3",
   "language": "python",
   "name": "python3"
  },
  "language_info": {
   "codemirror_mode": {
    "name": "ipython",
    "version": 3
   },
   "file_extension": ".py",
   "mimetype": "text/x-python",
   "name": "python",
   "nbconvert_exporter": "python",
   "pygments_lexer": "ipython3",
   "version": "3.8.6"
  }
 },
 "nbformat": 4,
 "nbformat_minor": 5
}
