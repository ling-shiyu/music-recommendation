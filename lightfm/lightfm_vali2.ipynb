{
 "cells": [
  {
   "cell_type": "code",
   "execution_count": 1,
   "id": "270db3d9",
   "metadata": {},
   "outputs": [
    {
     "name": "stderr",
     "output_type": "stream",
     "text": [
      "/Users/lingshiyu/opt/anaconda3/lib/python3.9/site-packages/lightfm/_lightfm_fast.py:9: UserWarning: LightFM was compiled without OpenMP support. Only a single thread will be used.\n",
      "  warnings.warn(\n"
     ]
    }
   ],
   "source": [
    "import time\n",
    "import pandas as pd\n",
    "import numpy as np\n",
    "from lightfm import LightFM\n",
    "from lightfm.datasets import fetch_movielens\n",
    "from lightfm.evaluation import precision_at_k\n",
    "import scipy.sparse as sp\n",
    "from scipy.sparse import csr_matrix"
   ]
  },
  {
   "cell_type": "code",
   "execution_count": 4,
   "id": "03e4da9b",
   "metadata": {},
   "outputs": [],
   "source": [
    "df_train = pd.read_parquet('user_recording_rating_normalized_small_random.parquet')\n",
    "df_val = pd.read_parquet('user_recording_reindex_val_small_random.parquet')\n",
    "df_train = df_train[df_train['scaled_rating'] != 0]\n",
    "df_train = df_train[['user_id', 'reindex_int']]\n",
    "df_val = df_val[['user_id', 'reindex_int']]"
   ]
  },
  {
   "cell_type": "code",
   "execution_count": 5,
   "id": "01055da0",
   "metadata": {},
   "outputs": [],
   "source": [
    "df_combined = pd.concat([df_train, df_val], axis=0)"
   ]
  },
  {
   "cell_type": "code",
   "execution_count": 6,
   "id": "549313fa",
   "metadata": {},
   "outputs": [],
   "source": [
    "def df_to_matrix(df):\n",
    "    user_id_map = {}\n",
    "    for i, user_id in enumerate(df['user_id'].unique()):\n",
    "        user_id_map[user_id] = i\n",
    "    \n",
    "    item_id_map = {}\n",
    "    for i, item_id in enumerate(df['reindex_int'].unique()):\n",
    "        item_id_map[item_id] = i\n",
    "    \n",
    "    df_copy = df.copy()\n",
    "    df_copy['user_id'] = df_copy['user_id'].apply(lambda x: user_id_map[x])\n",
    "    df_copy['reindex_int'] = df_copy['reindex_int'].apply(lambda x: item_id_map[x])\n",
    "    \n",
    "    num_users = len(user_id_map)\n",
    "    num_items = len(item_id_map)\n",
    "\n",
    "    row = df_copy['user_id'].values\n",
    "    col = df_copy['reindex_int'].values\n",
    "    V = np.ones(len(row))\n",
    "\n",
    "    interactions = sp.coo_matrix((V, (row, col)), dtype=np.float64)\n",
    "    interactions = interactions.tocsr()\n",
    "    \n",
    "    return interactions, user_id_map, item_id_map"
   ]
  },
  {
   "cell_type": "code",
   "execution_count": 7,
   "id": "eba41967",
   "metadata": {},
   "outputs": [],
   "source": [
    "interactions, user_id_map, item_id_map = df_to_matrix(df_combined)"
   ]
  },
  {
   "cell_type": "code",
   "execution_count": 8,
   "id": "2e9d4e69",
   "metadata": {},
   "outputs": [
    {
     "data": {
      "text/plain": [
       "<6668x2228541 sparse matrix of type '<class 'numpy.float64'>'\n",
       "\twith 6532411 stored elements in Compressed Sparse Row format>"
      ]
     },
     "execution_count": 8,
     "metadata": {},
     "output_type": "execute_result"
    }
   ],
   "source": [
    "interactions"
   ]
  },
  {
   "cell_type": "code",
   "execution_count": 9,
   "id": "0f97f2c8",
   "metadata": {},
   "outputs": [],
   "source": [
    "def subset_to_matrix(interactions, user_id_map, item_id_map, subset):\n",
    "    diff = df_combined.merge(subset, how = 'outer' ,indicator=True).loc[lambda x : x['_merge'] == 'left_only']\n",
    "    print(diff)\n",
    "    user_list = diff['user_id'].values\n",
    "    item_list = diff['reindex_int'].values\n",
    "\n",
    "    sub_mat = interactions.copy().tolil()\n",
    "    \n",
    "    for user, item in zip(user_list, item_list):\n",
    "        uidx = user_id_map[user]\n",
    "        midx = item_id_map[item]\n",
    "\n",
    "        sub_mat[uidx, midx] = 0.\n",
    "    \n",
    "    return sub_mat.tocsr()"
   ]
  },
  {
   "cell_type": "code",
   "execution_count": 10,
   "id": "a4596691",
   "metadata": {},
   "outputs": [
    {
     "name": "stdout",
     "output_type": "stream",
     "text": [
      "          user_id  reindex_int     _merge\n",
      "9847046      8551         2976  left_only\n",
      "9847047      2056        23582  left_only\n",
      "9847048      4956     16296509  left_only\n",
      "9847049      4717        26078  left_only\n",
      "9847050      7877       403632  left_only\n",
      "...           ...          ...        ...\n",
      "12048839      223      8580063  left_only\n",
      "12048840    19774     18967586  left_only\n",
      "12048841    17825     18967586  left_only\n",
      "12048842    19477     18967586  left_only\n",
      "12048843     5306       418584  left_only\n",
      "\n",
      "[2201798 rows x 3 columns]\n"
     ]
    }
   ],
   "source": [
    "train = subset_to_matrix(interactions, user_id_map, item_id_map, df_train)"
   ]
  },
  {
   "cell_type": "code",
   "execution_count": 11,
   "id": "7cd2f58e",
   "metadata": {},
   "outputs": [
    {
     "name": "stdout",
     "output_type": "stream",
     "text": [
      "          user_id  reindex_int     _merge\n",
      "8              34     14091143  left_only\n",
      "13             34      5519085  left_only\n",
      "14             34       942919  left_only\n",
      "65             34      8024679  left_only\n",
      "66             34      9487167  left_only\n",
      "...           ...          ...        ...\n",
      "54113345    22187      9187283  left_only\n",
      "54113346    22187      5049056  left_only\n",
      "54113353    22187      4348390  left_only\n",
      "54113358    22187      9898403  left_only\n",
      "54113359    22187     10087012  left_only\n",
      "\n",
      "[2273004 rows x 3 columns]\n"
     ]
    }
   ],
   "source": [
    "val = subset_to_matrix(interactions, user_id_map, item_id_map, df_val)"
   ]
  },
  {
   "cell_type": "code",
   "execution_count": 12,
   "id": "96e8a00c",
   "metadata": {},
   "outputs": [
    {
     "data": {
      "text/plain": [
       "<6668x2228541 sparse matrix of type '<class 'numpy.float64'>'\n",
       "\twith 4556972 stored elements in Compressed Sparse Row format>"
      ]
     },
     "execution_count": 12,
     "metadata": {},
     "output_type": "execute_result"
    }
   ],
   "source": [
    "train"
   ]
  },
  {
   "cell_type": "code",
   "execution_count": 13,
   "id": "d87855b7",
   "metadata": {},
   "outputs": [
    {
     "data": {
      "text/plain": [
       "<6668x2228541 sparse matrix of type '<class 'numpy.float64'>'\n",
       "\twith 4259407 stored elements in Compressed Sparse Row format>"
      ]
     },
     "execution_count": 13,
     "metadata": {},
     "output_type": "execute_result"
    }
   ],
   "source": [
    "val"
   ]
  },
  {
   "cell_type": "code",
   "execution_count": 14,
   "id": "62cab359",
   "metadata": {},
   "outputs": [
    {
     "name": "stdout",
     "output_type": "stream",
     "text": [
      "Time to fit model:  22.597467999999992\n"
     ]
    }
   ],
   "source": [
    "# Initialize the model\n",
    "model = LightFM(loss='warp')\n",
    "\n",
    "# Train the  model\n",
    "start = time.process_time()\n",
    "\n",
    "model.fit(train, epochs=3)\n",
    "end = time.process_time()\n",
    "elapsed_time = end - start\n",
    "print(\"Time to fit model: \", elapsed_time)"
   ]
  },
  {
   "cell_type": "code",
   "execution_count": 15,
   "id": "d908c0df",
   "metadata": {},
   "outputs": [
    {
     "name": "stdout",
     "output_type": "stream",
     "text": [
      "Time to calculate test precision:  6490.66727\n",
      "0.057763945\n"
     ]
    }
   ],
   "source": [
    "start = time.process_time()\n",
    "test_precision = precision_at_k(model, val, k=100).mean()\n",
    "end = time.process_time()\n",
    "elapsed_time = end - start\n",
    "print(\"Time to calculate test precision: \", elapsed_time)\n",
    "print(test_precision)"
   ]
  }
 ],
 "metadata": {
  "kernelspec": {
   "display_name": "Python 3 (ipykernel)",
   "language": "python",
   "name": "python3"
  },
  "language_info": {
   "codemirror_mode": {
    "name": "ipython",
    "version": 3
   },
   "file_extension": ".py",
   "mimetype": "text/x-python",
   "name": "python",
   "nbconvert_exporter": "python",
   "pygments_lexer": "ipython3",
   "version": "3.9.7"
  }
 },
 "nbformat": 4,
 "nbformat_minor": 5
}
